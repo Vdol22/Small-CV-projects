{
 "cells": [
  {
   "cell_type": "code",
   "execution_count": 16,
   "metadata": {},
   "outputs": [],
   "source": [
    "import numpy as np\n",
    "from ultralytics import YOLO\n"
   ]
  },
  {
   "cell_type": "code",
   "execution_count": 2,
   "metadata": {},
   "outputs": [
    {
     "name": "stdout",
     "output_type": "stream",
     "text": [
      "Downloading https://github.com/ultralytics/assets/releases/download/v0.0.0/yolov8n-cls.pt to 'yolov8n-cls.pt'...\n"
     ]
    },
    {
     "name": "stderr",
     "output_type": "stream",
     "text": [
      "100%|██████████| 5.28M/5.28M [00:00<00:00, 6.06MB/s]\n"
     ]
    }
   ],
   "source": [
    "model = YOLO('yolov8n-cls.pt')  # load a pretrained model (recommended for training)"
   ]
  },
  {
   "cell_type": "code",
   "execution_count": 7,
   "metadata": {},
   "outputs": [
    {
     "name": "stderr",
     "output_type": "stream",
     "text": [
      "<>:1: SyntaxWarning: invalid escape sequence '\\d'\n",
      "<>:1: SyntaxWarning: invalid escape sequence '\\d'\n",
      "C:\\Users\\user\\AppData\\Local\\Temp\\ipykernel_21996\\1010127722.py:1: SyntaxWarning: invalid escape sequence '\\d'\n",
      "  results = model.train(data='.\\data', epochs=20, imgsz=64) # В data должны быть 2 папки train и val, внутри каждой по папке для каждого класса.\n"
     ]
    },
    {
     "name": "stdout",
     "output_type": "stream",
     "text": [
      "New https://pypi.org/project/ultralytics/8.0.237 available 😃 Update with 'pip install -U ultralytics'\n",
      "Ultralytics YOLOv8.0.236 🚀 Python-3.12.1 torch-2.3.0.dev20240107+cu121 CUDA:0 (NVIDIA GeForce RTX 3050 Laptop GPU, 4096MiB)\n",
      "\u001b[34m\u001b[1mengine\\trainer: \u001b[0mtask=classify, mode=train, model=yolov8n-cls.pt, data=.\\data, epochs=20, time=None, patience=50, batch=16, imgsz=64, save=True, save_period=-1, cache=False, device=None, workers=8, project=None, name=train222, exist_ok=False, pretrained=True, optimizer=auto, verbose=True, seed=0, deterministic=True, single_cls=False, rect=False, cos_lr=False, close_mosaic=10, resume=False, amp=True, fraction=1.0, profile=False, freeze=None, multi_scale=False, overlap_mask=True, mask_ratio=4, dropout=0.0, val=True, split=val, save_json=False, save_hybrid=False, conf=None, iou=0.7, max_det=300, half=False, dnn=False, plots=True, source=None, vid_stride=1, stream_buffer=False, visualize=False, augment=False, agnostic_nms=False, classes=None, retina_masks=False, embed=None, show=False, save_frames=False, save_txt=False, save_conf=False, save_crop=False, show_labels=True, show_conf=True, show_boxes=True, line_width=None, format=torchscript, keras=False, optimize=False, int8=False, dynamic=False, simplify=False, opset=None, workspace=4, nms=False, lr0=0.01, lrf=0.01, momentum=0.937, weight_decay=0.0005, warmup_epochs=3.0, warmup_momentum=0.8, warmup_bias_lr=0.0, box=7.5, cls=0.5, dfl=1.5, pose=12.0, kobj=1.0, label_smoothing=0.0, nbs=64, hsv_h=0.015, hsv_s=0.7, hsv_v=0.4, degrees=0.0, translate=0.1, scale=0.5, shear=0.0, perspective=0.0, flipud=0.0, fliplr=0.5, mosaic=1.0, mixup=0.0, copy_paste=0.0, auto_augment=randaugment, erasing=0.4, crop_fraction=1.0, cfg=None, tracker=botsort.yaml, save_dir=runs\\classify\\train222\n",
      "\u001b[34m\u001b[1mtrain:\u001b[0m C:\\Repos\\Small-CV-projects\\Yolo-v8-custom-train\\data\\train... found 909 images in 4 classes ✅ \n",
      "\u001b[34m\u001b[1mval:\u001b[0m C:\\Repos\\Small-CV-projects\\Yolo-v8-custom-train\\data\\val... found 216 images in 4 classes ✅ \n",
      "\u001b[34m\u001b[1mtest:\u001b[0m None...\n",
      "\n",
      "                   from  n    params  module                                       arguments                     \n",
      "  0                  -1  1       464  ultralytics.nn.modules.conv.Conv             [3, 16, 3, 2]                 \n",
      "  1                  -1  1      4672  ultralytics.nn.modules.conv.Conv             [16, 32, 3, 2]                \n",
      "  2                  -1  1      7360  ultralytics.nn.modules.block.C2f             [32, 32, 1, True]             \n",
      "  3                  -1  1     18560  ultralytics.nn.modules.conv.Conv             [32, 64, 3, 2]                \n",
      "  4                  -1  2     49664  ultralytics.nn.modules.block.C2f             [64, 64, 2, True]             \n",
      "  5                  -1  1     73984  ultralytics.nn.modules.conv.Conv             [64, 128, 3, 2]               \n",
      "  6                  -1  2    197632  ultralytics.nn.modules.block.C2f             [128, 128, 2, True]           \n",
      "  7                  -1  1    295424  ultralytics.nn.modules.conv.Conv             [128, 256, 3, 2]              \n",
      "  8                  -1  1    460288  ultralytics.nn.modules.block.C2f             [256, 256, 1, True]           \n",
      "  9                  -1  1    335364  ultralytics.nn.modules.head.Classify         [256, 4]                      \n",
      "YOLOv8n-cls summary: 99 layers, 1443412 parameters, 1443412 gradients, 3.4 GFLOPs\n",
      "Transferred 158/158 items from pretrained weights\n",
      "\u001b[34m\u001b[1mAMP: \u001b[0mrunning Automatic Mixed Precision (AMP) checks with YOLOv8n...\n",
      "\u001b[34m\u001b[1mAMP: \u001b[0mchecks passed ✅\n"
     ]
    },
    {
     "name": "stderr",
     "output_type": "stream",
     "text": [
      "\u001b[34m\u001b[1mtrain: \u001b[0mScanning C:\\Repos\\Small-CV-projects\\Yolo-v8-custom-train\\data\\train... 907 images, 2 corrupt: 100%|██████████| 907/907 [00:00<?, ?it/s]"
     ]
    },
    {
     "name": "stdout",
     "output_type": "stream",
     "text": [
      "\u001b[34m\u001b[1mtrain: \u001b[0mWARNING ⚠️ C:\\Repos\\Small-CV-projects\\Yolo-v8-custom-train\\data\\train\\rain\\rain141.jpg: ignoring corrupt image/label: invalid image format GIF\n",
      "\u001b[34m\u001b[1mtrain: \u001b[0mWARNING ⚠️ C:\\Repos\\Small-CV-projects\\Yolo-v8-custom-train\\data\\train\\shine\\shine131.jpg: ignoring corrupt image/label: invalid image format GIF\n"
     ]
    },
    {
     "name": "stderr",
     "output_type": "stream",
     "text": [
      "\n",
      "\u001b[34m\u001b[1mval: \u001b[0mScanning C:\\Repos\\Small-CV-projects\\Yolo-v8-custom-train\\data\\val... 216 images, 0 corrupt: 100%|██████████| 216/216 [00:00<?, ?it/s]\n"
     ]
    },
    {
     "name": "stdout",
     "output_type": "stream",
     "text": [
      "\u001b[34m\u001b[1moptimizer:\u001b[0m 'optimizer=auto' found, ignoring 'lr0=0.01' and 'momentum=0.937' and determining best 'optimizer', 'lr0' and 'momentum' automatically... \n",
      "\u001b[34m\u001b[1moptimizer:\u001b[0m AdamW(lr=0.000714, momentum=0.9) with parameter groups 26 weight(decay=0.0), 27 weight(decay=0.0005), 27 bias(decay=0.0)\n",
      "20 epochs...\n",
      "\n",
      "      Epoch    GPU_mem       loss  Instances       Size\n"
     ]
    },
    {
     "name": "stderr",
     "output_type": "stream",
     "text": [
      "       1/20     0.533G     0.2184         11         64: 100%|██████████| 57/57 [00:04<00:00, 13.64it/s]\n",
      "               classes   top1_acc   top5_acc: 100%|██████████| 7/7 [00:08<00:00,  1.18s/it]"
     ]
    },
    {
     "name": "stdout",
     "output_type": "stream",
     "text": [
      "                   all      0.894          1\n"
     ]
    },
    {
     "name": "stderr",
     "output_type": "stream",
     "text": [
      "\n"
     ]
    },
    {
     "name": "stdout",
     "output_type": "stream",
     "text": [
      "\n",
      "      Epoch    GPU_mem       loss  Instances       Size\n"
     ]
    },
    {
     "name": "stderr",
     "output_type": "stream",
     "text": [
      "       2/20     0.535G       0.53         11         64: 100%|██████████| 57/57 [00:02<00:00, 19.15it/s]\n",
      "               classes   top1_acc   top5_acc: 100%|██████████| 7/7 [00:00<00:00, 52.24it/s]\n"
     ]
    },
    {
     "name": "stdout",
     "output_type": "stream",
     "text": [
      "                   all      0.949          1\n",
      "\n",
      "      Epoch    GPU_mem       loss  Instances       Size\n"
     ]
    },
    {
     "name": "stderr",
     "output_type": "stream",
     "text": [
      "       3/20     0.535G     0.4416         11         64: 100%|██████████| 57/57 [00:02<00:00, 24.37it/s]\n",
      "               classes   top1_acc   top5_acc: 100%|██████████| 7/7 [00:00<00:00, 85.37it/s]\n"
     ]
    },
    {
     "name": "stdout",
     "output_type": "stream",
     "text": [
      "                   all      0.968          1\n",
      "\n",
      "      Epoch    GPU_mem       loss  Instances       Size\n"
     ]
    },
    {
     "name": "stderr",
     "output_type": "stream",
     "text": [
      "       4/20     0.535G     0.4091         11         64: 100%|██████████| 57/57 [00:02<00:00, 23.53it/s]\n",
      "               classes   top1_acc   top5_acc: 100%|██████████| 7/7 [00:00<00:00, 71.43it/s]\n"
     ]
    },
    {
     "name": "stdout",
     "output_type": "stream",
     "text": [
      "                   all      0.977          1\n",
      "\n",
      "      Epoch    GPU_mem       loss  Instances       Size\n"
     ]
    },
    {
     "name": "stderr",
     "output_type": "stream",
     "text": [
      "       5/20     0.535G     0.3271         11         64: 100%|██████████| 57/57 [00:02<00:00, 26.59it/s]\n",
      "               classes   top1_acc   top5_acc: 100%|██████████| 7/7 [00:00<00:00, 81.39it/s]\n"
     ]
    },
    {
     "name": "stdout",
     "output_type": "stream",
     "text": [
      "                   all      0.977          1\n",
      "\n",
      "      Epoch    GPU_mem       loss  Instances       Size\n"
     ]
    },
    {
     "name": "stderr",
     "output_type": "stream",
     "text": [
      "       6/20     0.535G     0.3301         11         64: 100%|██████████| 57/57 [00:02<00:00, 28.35it/s]\n",
      "               classes   top1_acc   top5_acc: 100%|██████████| 7/7 [00:00<00:00, 93.32it/s]"
     ]
    },
    {
     "name": "stdout",
     "output_type": "stream",
     "text": [
      "                   all      0.935          1\n"
     ]
    },
    {
     "name": "stderr",
     "output_type": "stream",
     "text": [
      "\n"
     ]
    },
    {
     "name": "stdout",
     "output_type": "stream",
     "text": [
      "\n",
      "      Epoch    GPU_mem       loss  Instances       Size\n"
     ]
    },
    {
     "name": "stderr",
     "output_type": "stream",
     "text": [
      "       7/20     0.535G     0.2852         11         64: 100%|██████████| 57/57 [00:02<00:00, 24.93it/s]\n",
      "               classes   top1_acc   top5_acc: 100%|██████████| 7/7 [00:00<00:00, 40.27it/s]\n"
     ]
    },
    {
     "name": "stdout",
     "output_type": "stream",
     "text": [
      "                   all      0.968          1\n",
      "\n",
      "      Epoch    GPU_mem       loss  Instances       Size\n"
     ]
    },
    {
     "name": "stderr",
     "output_type": "stream",
     "text": [
      "       8/20     0.535G     0.2622         11         64: 100%|██████████| 57/57 [00:02<00:00, 25.43it/s]\n",
      "               classes   top1_acc   top5_acc: 100%|██████████| 7/7 [00:00<00:00, 70.71it/s]\n"
     ]
    },
    {
     "name": "stdout",
     "output_type": "stream",
     "text": [
      "                   all      0.949          1\n",
      "\n",
      "      Epoch    GPU_mem       loss  Instances       Size\n"
     ]
    },
    {
     "name": "stderr",
     "output_type": "stream",
     "text": [
      "       9/20     0.535G     0.2305         11         64: 100%|██████████| 57/57 [00:02<00:00, 23.40it/s]\n",
      "               classes   top1_acc   top5_acc: 100%|██████████| 7/7 [00:00<00:00, 77.78it/s]\n"
     ]
    },
    {
     "name": "stdout",
     "output_type": "stream",
     "text": [
      "                   all      0.931          1\n",
      "\n",
      "      Epoch    GPU_mem       loss  Instances       Size\n"
     ]
    },
    {
     "name": "stderr",
     "output_type": "stream",
     "text": [
      "      10/20     0.535G      0.245         11         64: 100%|██████████| 57/57 [00:02<00:00, 24.75it/s]\n",
      "               classes   top1_acc   top5_acc: 100%|██████████| 7/7 [00:00<00:00, 68.62it/s]"
     ]
    },
    {
     "name": "stdout",
     "output_type": "stream",
     "text": [
      "                   all       0.94          1\n"
     ]
    },
    {
     "name": "stderr",
     "output_type": "stream",
     "text": [
      "\n"
     ]
    },
    {
     "name": "stdout",
     "output_type": "stream",
     "text": [
      "\n",
      "      Epoch    GPU_mem       loss  Instances       Size\n"
     ]
    },
    {
     "name": "stderr",
     "output_type": "stream",
     "text": [
      "      11/20     0.535G     0.2562         11         64: 100%|██████████| 57/57 [00:02<00:00, 24.33it/s]\n",
      "               classes   top1_acc   top5_acc: 100%|██████████| 7/7 [00:00<00:00, 74.47it/s]\n"
     ]
    },
    {
     "name": "stdout",
     "output_type": "stream",
     "text": [
      "                   all      0.963          1\n",
      "\n",
      "      Epoch    GPU_mem       loss  Instances       Size\n"
     ]
    },
    {
     "name": "stderr",
     "output_type": "stream",
     "text": [
      "      12/20     0.535G     0.2296         11         64: 100%|██████████| 57/57 [00:02<00:00, 24.66it/s]\n",
      "               classes   top1_acc   top5_acc: 100%|██████████| 7/7 [00:00<00:00, 53.43it/s]"
     ]
    },
    {
     "name": "stdout",
     "output_type": "stream",
     "text": [
      "                   all      0.963          1\n"
     ]
    },
    {
     "name": "stderr",
     "output_type": "stream",
     "text": [
      "\n"
     ]
    },
    {
     "name": "stdout",
     "output_type": "stream",
     "text": [
      "\n",
      "      Epoch    GPU_mem       loss  Instances       Size\n"
     ]
    },
    {
     "name": "stderr",
     "output_type": "stream",
     "text": [
      "      13/20     0.535G     0.1941         11         64: 100%|██████████| 57/57 [00:02<00:00, 21.81it/s]\n",
      "               classes   top1_acc   top5_acc: 100%|██████████| 7/7 [00:00<00:00, 75.27it/s]\n"
     ]
    },
    {
     "name": "stdout",
     "output_type": "stream",
     "text": [
      "                   all      0.977          1\n",
      "\n",
      "      Epoch    GPU_mem       loss  Instances       Size\n"
     ]
    },
    {
     "name": "stderr",
     "output_type": "stream",
     "text": [
      "      14/20     0.535G     0.1567         11         64: 100%|██████████| 57/57 [00:02<00:00, 24.80it/s]\n",
      "               classes   top1_acc   top5_acc: 100%|██████████| 7/7 [00:00<00:00, 57.12it/s]"
     ]
    },
    {
     "name": "stdout",
     "output_type": "stream",
     "text": [
      "                   all      0.968          1\n"
     ]
    },
    {
     "name": "stderr",
     "output_type": "stream",
     "text": [
      "\n"
     ]
    },
    {
     "name": "stdout",
     "output_type": "stream",
     "text": [
      "\n",
      "      Epoch    GPU_mem       loss  Instances       Size\n"
     ]
    },
    {
     "name": "stderr",
     "output_type": "stream",
     "text": [
      "      15/20     0.535G     0.1961         11         64: 100%|██████████| 57/57 [00:02<00:00, 21.50it/s]\n",
      "               classes   top1_acc   top5_acc: 100%|██████████| 7/7 [00:00<00:00, 62.50it/s]"
     ]
    },
    {
     "name": "stdout",
     "output_type": "stream",
     "text": [
      "                   all      0.972          1\n"
     ]
    },
    {
     "name": "stderr",
     "output_type": "stream",
     "text": [
      "\n"
     ]
    },
    {
     "name": "stdout",
     "output_type": "stream",
     "text": [
      "\n",
      "      Epoch    GPU_mem       loss  Instances       Size\n"
     ]
    },
    {
     "name": "stderr",
     "output_type": "stream",
     "text": [
      "      16/20     0.535G     0.1936         11         64: 100%|██████████| 57/57 [00:02<00:00, 19.97it/s]\n",
      "               classes   top1_acc   top5_acc: 100%|██████████| 7/7 [00:00<00:00, 41.05it/s]"
     ]
    },
    {
     "name": "stdout",
     "output_type": "stream",
     "text": [
      "                   all      0.954          1\n"
     ]
    },
    {
     "name": "stderr",
     "output_type": "stream",
     "text": [
      "\n"
     ]
    },
    {
     "name": "stdout",
     "output_type": "stream",
     "text": [
      "\n",
      "      Epoch    GPU_mem       loss  Instances       Size\n"
     ]
    },
    {
     "name": "stderr",
     "output_type": "stream",
     "text": [
      "      17/20     0.535G     0.1714         11         64: 100%|██████████| 57/57 [00:02<00:00, 24.81it/s]\n",
      "               classes   top1_acc   top5_acc: 100%|██████████| 7/7 [00:00<00:00, 59.32it/s]"
     ]
    },
    {
     "name": "stdout",
     "output_type": "stream",
     "text": [
      "                   all      0.963          1\n"
     ]
    },
    {
     "name": "stderr",
     "output_type": "stream",
     "text": [
      "\n"
     ]
    },
    {
     "name": "stdout",
     "output_type": "stream",
     "text": [
      "\n",
      "      Epoch    GPU_mem       loss  Instances       Size\n"
     ]
    },
    {
     "name": "stderr",
     "output_type": "stream",
     "text": [
      "      18/20     0.535G     0.1699         11         64: 100%|██████████| 57/57 [00:02<00:00, 21.77it/s]\n",
      "               classes   top1_acc   top5_acc: 100%|██████████| 7/7 [00:00<00:00, 94.59it/s]\n"
     ]
    },
    {
     "name": "stdout",
     "output_type": "stream",
     "text": [
      "                   all      0.972          1\n",
      "\n",
      "      Epoch    GPU_mem       loss  Instances       Size\n"
     ]
    },
    {
     "name": "stderr",
     "output_type": "stream",
     "text": [
      "      19/20     0.524G     0.1579         11         64: 100%|██████████| 57/57 [00:02<00:00, 24.21it/s]\n",
      "               classes   top1_acc   top5_acc: 100%|██████████| 7/7 [00:00<00:00, 73.68it/s]\n"
     ]
    },
    {
     "name": "stdout",
     "output_type": "stream",
     "text": [
      "                   all      0.977          1\n",
      "\n",
      "      Epoch    GPU_mem       loss  Instances       Size\n"
     ]
    },
    {
     "name": "stderr",
     "output_type": "stream",
     "text": [
      "      20/20     0.524G     0.1607         11         64: 100%|██████████| 57/57 [00:02<00:00, 22.94it/s]\n",
      "               classes   top1_acc   top5_acc: 100%|██████████| 7/7 [00:00<00:00, 61.11it/s]"
     ]
    },
    {
     "name": "stdout",
     "output_type": "stream",
     "text": [
      "                   all      0.977          1\n"
     ]
    },
    {
     "name": "stderr",
     "output_type": "stream",
     "text": [
      "\n"
     ]
    },
    {
     "name": "stdout",
     "output_type": "stream",
     "text": [
      "\n",
      "20 epochs completed in 0.054 hours.\n",
      "Optimizer stripped from runs\\classify\\train222\\weights\\last.pt, 3.0MB\n",
      "Optimizer stripped from runs\\classify\\train222\\weights\\best.pt, 3.0MB\n",
      "\n",
      "Validating runs\\classify\\train222\\weights\\best.pt...\n",
      "Ultralytics YOLOv8.0.236 🚀 Python-3.12.1 torch-2.3.0.dev20240107+cu121 CUDA:0 (NVIDIA GeForce RTX 3050 Laptop GPU, 4096MiB)\n",
      "YOLOv8n-cls summary (fused): 73 layers, 1440004 parameters, 0 gradients, 3.3 GFLOPs\n",
      "\u001b[34m\u001b[1mtrain:\u001b[0m C:\\Repos\\Small-CV-projects\\Yolo-v8-custom-train\\data\\train... found 909 images in 4 classes ✅ \n",
      "\u001b[34m\u001b[1mval:\u001b[0m C:\\Repos\\Small-CV-projects\\Yolo-v8-custom-train\\data\\val... found 216 images in 4 classes ✅ \n",
      "\u001b[34m\u001b[1mtest:\u001b[0m None...\n"
     ]
    },
    {
     "name": "stderr",
     "output_type": "stream",
     "text": [
      "               classes   top1_acc   top5_acc: 100%|██████████| 7/7 [00:00<00:00, 53.84it/s]\n"
     ]
    },
    {
     "name": "stdout",
     "output_type": "stream",
     "text": [
      "                   all      0.977          1\n",
      "Speed: 0.1ms preprocess, 0.4ms inference, 0.0ms loss, 0.0ms postprocess per image\n",
      "Results saved to \u001b[1mruns\\classify\\train222\u001b[0m\n",
      "Results saved to \u001b[1mruns\\classify\\train222\u001b[0m\n"
     ]
    }
   ],
   "source": [
    "results = model.train(data='.\\data', epochs=20, imgsz=64) # В data должны быть 2 папки train и val, внутри каждой по папке для каждого класса. \n",
    "# в примере rain, sunrise, sunshine, cloudy"
   ]
  },
  {
   "cell_type": "code",
   "execution_count": 9,
   "metadata": {},
   "outputs": [
    {
     "name": "stdout",
     "output_type": "stream",
     "text": [
      "\n",
      "image 1/1 c:\\Repos\\Small-CV-projects\\Yolo-v8-custom-train\\test_file.jpeg: 64x64 shine 1.00, cloudy 0.00, sunrise 0.00, rain 0.00, 6.0ms\n",
      "Speed: 36.0ms preprocess, 6.0ms inference, 0.0ms postprocess per image at shape (1, 3, 64, 64)\n"
     ]
    }
   ],
   "source": [
    "# Predict\n",
    "model = YOLO('./runs/classify/train222/weights/best.pt')\n",
    "results = model('test_file.jpeg') # Файл для предикта"
   ]
  },
  {
   "cell_type": "code",
   "execution_count": 19,
   "metadata": {},
   "outputs": [
    {
     "name": "stdout",
     "output_type": "stream",
     "text": [
      "{0: 'cloudy', 1: 'rain', 2: 'shine', 3: 'sunrise'}\n",
      "----\n",
      "ultralytics.engine.results.Probs object with attributes:\n",
      "\n",
      "data: tensor([8.6305e-04, 7.0659e-08, 9.9914e-01, 1.1910e-07], device='cuda:0')\n",
      "orig_shape: None\n",
      "shape: torch.Size([4])\n",
      "top1: 2\n",
      "top1conf: tensor(0.9991, device='cuda:0')\n",
      "top5: [2, 0, 3, 1]\n",
      "top5conf: tensor([9.9914e-01, 8.6305e-04, 1.1910e-07, 7.0659e-08], device='cuda:0')\n"
     ]
    }
   ],
   "source": [
    "names_dict = results[0].names # Инфа о предсказаниях\n",
    "probs = results[0].probs # Список вероятностей классов\n",
    "print(names_dict)\n",
    "print('----')\n",
    "print(probs)"
   ]
  }
 ],
 "metadata": {
  "kernelspec": {
   "display_name": "Yolo_env",
   "language": "python",
   "name": "python3"
  },
  "language_info": {
   "codemirror_mode": {
    "name": "ipython",
    "version": 3
   },
   "file_extension": ".py",
   "mimetype": "text/x-python",
   "name": "python",
   "nbconvert_exporter": "python",
   "pygments_lexer": "ipython3",
   "version": "3.12.0"
  }
 },
 "nbformat": 4,
 "nbformat_minor": 2
}
