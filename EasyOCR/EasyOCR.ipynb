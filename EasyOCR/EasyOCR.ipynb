{
 "cells": [
  {
   "cell_type": "code",
   "execution_count": 1,
   "metadata": {},
   "outputs": [],
   "source": [
    "import cv2\n",
    "import easyocr\n",
    "import matplotlib.pyplot as plt\n",
    "import numpy as np\n",
    "import os"
   ]
  },
  {
   "cell_type": "code",
   "execution_count": 27,
   "metadata": {},
   "outputs": [],
   "source": [
    "reader = easyocr.Reader(['en'], gpu=True)\n",
    "threshold = 0.25\n",
    "img_path = './data'"
   ]
  },
  {
   "cell_type": "code",
   "execution_count": 38,
   "metadata": {},
   "outputs": [
    {
     "name": "stdout",
     "output_type": "stream",
     "text": [
      "([[250, 229], [1655, 229], [1655, 381], [250, 381]], '~NO SMOKING-', 0.8299148385077698)\n",
      "([[256, 379], [1685, 379], [1685, 518], [256, 518]], 'If we see you smoking, we ]l', 0.5039268827013478)\n",
      "([[301, 492], [1694, 492], [1694, 651], [301, 651]], 'assume you are on fire and', 0.905609222778842)\n",
      "([[295, 600], [1769, 600], [1769, 795], [295, 795]], 'will take appropriate action', 0.808747583804414)\n",
      "([[533, 0], [615, 0], [615, 59], [533, 59]], '6', 0.251241672172128)\n",
      "([[207, 259], [557, 259], [557, 327], [207, 327]], 'HOUSE For SALE', 0.7798400865019851)\n",
      "([[226, 319], [526, 319], [526, 369], [226, 369]], 'BY OWNER', 0.6795833176743741)\n",
      "([[313, 367], [445, 367], [445, 427], [313, 427]], 'because', 0.3782116629023248)\n",
      "([[249, 425], [517, 425], [517, 489], [249, 489]], 'MYNeIGHBOR S AN', 0.2944405139994733)\n",
      "([[206, 486], [569, 486], [569, 553], [206, 553]], 'ASSHOLE!', 0.8138069482669107)\n",
      "([[228, 50], [998, 50], [998, 281], [228, 281]], 'WARNING', 0.9983081025684803)\n",
      "([[299, 265], [883, 265], [883, 394], [299, 394]], 'CHILDREN LEFT', 0.9956213459861049)\n",
      "([[190, 375], [999, 375], [999, 507], [190, 507]], 'UNATTENDED WILL BE', 0.8935215629122095)\n",
      "([[193, 486], [980, 486], [980, 615], [193, 615]], 'SOLD TO THE CIRCUS', 0.8152106333137525)\n"
     ]
    }
   ],
   "source": [
    "for img in os.listdir(img_path):\n",
    "    img_ = os.path.join(img_path, img)\n",
    "    img_ = cv2.imread(img_)\n",
    "    text_ = reader.readtext(img_)\n",
    "    for t in text_:\n",
    "        bbox, text, score = t\n",
    "        print(t)\n",
    "        if score > threshold: # Не выводить лажу ниже порога\n",
    "            cv2.rectangle(img_, bbox[0], bbox[2], (0, 255, 0), 3)\n",
    "            cv2.putText(img_, text, bbox[0], cv2.FONT_HERSHEY_COMPLEX, 1, (255, 0, 0), 2)\n",
    "    cv2.imwrite(os.path.join('.', img), img_)"
   ]
  }
 ],
 "metadata": {
  "kernelspec": {
   "display_name": "EasyOCR",
   "language": "python",
   "name": "python3"
  },
  "language_info": {
   "codemirror_mode": {
    "name": "ipython",
    "version": 3
   },
   "file_extension": ".py",
   "mimetype": "text/x-python",
   "name": "python",
   "nbconvert_exporter": "python",
   "pygments_lexer": "ipython3",
   "version": "3.12.1"
  }
 },
 "nbformat": 4,
 "nbformat_minor": 2
}
